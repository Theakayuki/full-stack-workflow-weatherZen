{
 "cells": [
  {
   "attachments": {},
   "cell_type": "markdown",
   "metadata": {},
   "source": [
    "# Full-Stack Application WorkFlow\n",
    "\n",
    "There are two main ways to build a full-stack application. The first is to build the front-end to the back-end. This is called \"Outside-In\" development. The second is to build the back-end to the front-end. This is called \"Inside-Out\" development. In this lesson, we will be using the \"Inside-Out\" approach."
   ]
  },
  {
   "attachments": {},
   "cell_type": "markdown",
   "metadata": {},
   "source": [
    "## Inside-Out Workflow\n",
    "\n",
    "This workflow starts by making changes to the data-tier, then the Application Tier and finally the Presentation Tier. This is called a horizontal slice for each feature. as we build it from the back-end to the front-end as a whole. Meaning that the user gets access to the features last.\n",
    "\n",
    "Advantages of this workflow:\n",
    "- Changes to the data-tier are made early\n",
    "- Business requirements are clarified early\n",
    "- The user interface is built last\n",
    "\n",
    "Disadvantages of this workflow:\n",
    "- Easy to make accidental features in API\n",
    "- Easy to miss some UI needs\n",
    "- Feedback is delayed\n",
    "- Front-end may be rushed\n",
    "\n",
    "## Outside-In Workflow\n",
    "\n",
    "This workflow starts by making changes to the Presentation Tier, then the Application Tier and finally the Data Tier. This is called a vertical slice for each feature. as we build it from the front-end to the back-end. Then work on the next feature. Meaning that the user gets access to the features immediately.\n",
    "\n",
    "Advantages of this workflow:\n",
    "- Feedback is immediate\n",
    "- Unlikely that accidental features are made\n",
    "- The focus is on the user needs\n",
    "\n",
    "Disadvantages of this workflow:\n",
    "- Changes to the data-tier are made late/rushed\n",
    "- Delayed clarification of business requirements\n",
    "\n"
   ]
  }
 ],
 "metadata": {
  "language_info": {
   "name": "python"
  },
  "orig_nbformat": 4
 },
 "nbformat": 4,
 "nbformat_minor": 2
}
